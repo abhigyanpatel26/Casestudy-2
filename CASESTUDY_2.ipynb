{
  "nbformat": 4,
  "nbformat_minor": 0,
  "metadata": {
    "colab": {
      "provenance": [],
      "authorship_tag": "ABX9TyOtUlN+cA8rnifLqjksli8L",
      "include_colab_link": true
    },
    "kernelspec": {
      "name": "python3",
      "display_name": "Python 3"
    },
    "language_info": {
      "name": "python"
    }
  },
  "cells": [
    {
      "cell_type": "markdown",
      "metadata": {
        "id": "view-in-github",
        "colab_type": "text"
      },
      "source": [
        "<a href=\"https://colab.research.google.com/github/abhigyanpatel26/Casestudy-2/blob/main/CASESTUDY_2.ipynb\" target=\"_parent\"><img src=\"https://colab.research.google.com/assets/colab-badge.svg\" alt=\"Open In Colab\"/></a>"
      ]
    },
    {
      "cell_type": "code",
      "execution_count": 15,
      "metadata": {
        "colab": {
          "base_uri": "https://localhost:8080/",
          "height": 109
        },
        "id": "nt6moJQgg0JS",
        "outputId": "a87309c7-8f19-4c74-9792-069ba03bfc79"
      },
      "outputs": [
        {
          "output_type": "error",
          "ename": "IndentationError",
          "evalue": "unindent does not match any outer indentation level (<tokenize>, line 39)",
          "traceback": [
            "\u001b[0;36m  File \u001b[0;32m\"<tokenize>\"\u001b[0;36m, line \u001b[0;32m39\u001b[0m\n\u001b[0;31m    led_brightness_control()\u001b[0m\n\u001b[0m    ^\u001b[0m\n\u001b[0;31mIndentationError\u001b[0m\u001b[0;31m:\u001b[0m unindent does not match any outer indentation level\n"
          ]
        }
      ],
      "source": [
        "def led_brightness_control():\n",
        "    min_brightness = 0\n",
        "    max_brightness = 100\n",
        "    step_size = 10\n",
        "    brightness = 50\n",
        "    print(\"Welcome to LED Brightness Control!\")\n",
        "    print(\"Commands:\")\n",
        "    print(\"'i' to increase brightness\")\n",
        "    print(\"'d' to decrease brightness\")\n",
        "    print(\"'q' to quit the program\")\n",
        "\n",
        "    while True:\n",
        "\n",
        "        command = input(\"Enter command: \").strip().lower()\n",
        "        if command == 'i':\n",
        "\n",
        "            if brightness + step_size <= max_brightness:\n",
        "                brightness += step_size\n",
        "                print(f\"Brightness increased to: {brightness}%\")\n",
        "            else:\n",
        "                print(\"Brightness is already at maximum!\")\n",
        "        elif command == 'd':\n",
        "\n",
        "            if brightness - step_size >= min_brightness:\n",
        "                brightness -= step_size\n",
        "                print(f\"Brightness decreased to: {brightness}%\")\n",
        "            else:\n",
        "                print(\"Brightness is already at minimum!\")\n",
        "        elif command == 'q':\n",
        "\n",
        "            print(\"Exiting LED Brightness Control. Goodbye!\")\n",
        "            break\n",
        "        else:\n",
        "\n",
        "            print(\"Invalid command. Please try again.\")\n",
        "\n",
        "        visual = '|' * (brightness // step_size)\n",
        "        print(f\"Brightness Visual: [{visual}]\\n\")\n",
        "   led_brightness_control()"
      ]
    }
  ]
}